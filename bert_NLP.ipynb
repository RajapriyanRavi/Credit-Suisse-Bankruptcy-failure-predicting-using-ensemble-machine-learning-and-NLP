In [10]:
pip install transformers torch pandas pdfplumber
Requirement already satisfied: transformers in /usr/local/lib/python3.10/dist-packages (4.47.1)
Requirement already satisfied: torch in /usr/local/lib/python3.10/dist-packages (2.5.1+cu121)
Requirement already satisfied: pandas in /usr/local/lib/python3.10/dist-packages (2.2.2)
Requirement already satisfied: pdfplumber in /usr/local/lib/python3.10/dist-packages (0.11.4)
Requirement already satisfied: filelock in /usr/local/lib/python3.10/dist-packages (from transformers) (3.16.1)
Requirement already satisfied: huggingface-hub<1.0,>=0.24.0 in /usr/local/lib/python3.10/dist-packages (from transformers) (0.27.0)
Requirement already satisfied: numpy>=1.17 in /usr/local/lib/python3.10/dist-packages (from transformers) (1.26.4)
Requirement already satisfied: packaging>=20.0 in /usr/local/lib/python3.10/dist-packages (from transformers) (24.2)
Requirement already satisfied: pyyaml>=5.1 in /usr/local/lib/python3.10/dist-packages (from transformers) (6.0.2)
Requirement already satisfied: regex!=2019.12.17 in /usr/local/lib/python3.10/dist-packages (from transformers) (2024.11.6)
Requirement already satisfied: requests in /usr/local/lib/python3.10/dist-packages (from transformers) (2.32.3)
Requirement already satisfied: tokenizers<0.22,>=0.21 in /usr/local/lib/python3.10/dist-packages (from transformers) (0.21.0)
Requirement already satisfied: safetensors>=0.4.1 in /usr/local/lib/python3.10/dist-packages (from transformers) (0.4.5)
Requirement already satisfied: tqdm>=4.27 in /usr/local/lib/python3.10/dist-packages (from transformers) (4.67.1)
Requirement already satisfied: typing-extensions>=4.8.0 in /usr/local/lib/python3.10/dist-packages (from torch) (4.12.2)
Requirement already satisfied: networkx in /usr/local/lib/python3.10/dist-packages (from torch) (3.4.2)
Requirement already satisfied: jinja2 in /usr/local/lib/python3.10/dist-packages (from torch) (3.1.4)
Requirement already satisfied: fsspec in /usr/local/lib/python3.10/dist-packages (from torch) (2024.10.0)
Requirement already satisfied: sympy==1.13.1 in /usr/local/lib/python3.10/dist-packages (from torch) (1.13.1)
Requirement already satisfied: mpmath<1.4,>=1.1.0 in /usr/local/lib/python3.10/dist-packages (from sympy==1.13.1->torch) (1.3.0)
Requirement already satisfied: python-dateutil>=2.8.2 in /usr/local/lib/python3.10/dist-packages (from pandas) (2.8.2)
Requirement already satisfied: pytz>=2020.1 in /usr/local/lib/python3.10/dist-packages (from pandas) (2024.2)
Requirement already satisfied: tzdata>=2022.7 in /usr/local/lib/python3.10/dist-packages (from pandas) (2024.2)
Requirement already satisfied: pdfminer.six==20231228 in /usr/local/lib/python3.10/dist-packages (from pdfplumber) (20231228)
Requirement already satisfied: Pillow>=9.1 in /usr/local/lib/python3.10/dist-packages (from pdfplumber) (11.0.0)
Requirement already satisfied: pypdfium2>=4.18.0 in /usr/local/lib/python3.10/dist-packages (from pdfplumber) (4.30.1)
Requirement already satisfied: charset-normalizer>=2.0.0 in /usr/local/lib/python3.10/dist-packages (from pdfminer.six==20231228->pdfplumber) (3.4.0)
Requirement already satisfied: cryptography>=36.0.0 in /usr/local/lib/python3.10/dist-packages (from pdfminer.six==20231228->pdfplumber) (43.0.3)
Requirement already satisfied: six>=1.5 in /usr/local/lib/python3.10/dist-packages (from python-dateutil>=2.8.2->pandas) (1.17.0)
Requirement already satisfied: MarkupSafe>=2.0 in /usr/local/lib/python3.10/dist-packages (from jinja2->torch) (3.0.2)
Requirement already satisfied: idna<4,>=2.5 in /usr/local/lib/python3.10/dist-packages (from requests->transformers) (3.10)
Requirement already satisfied: urllib3<3,>=1.21.1 in /usr/local/lib/python3.10/dist-packages (from requests->transformers) (2.2.3)
Requirement already satisfied: certifi>=2017.4.17 in /usr/local/lib/python3.10/dist-packages (from requests->transformers) (2024.12.14)
Requirement already satisfied: cffi>=1.12 in /usr/local/lib/python3.10/dist-packages (from cryptography>=36.0.0->pdfminer.six==20231228->pdfplumber) (1.17.1)
Requirement already satisfied: pycparser in /usr/local/lib/python3.10/dist-packages (from cffi>=1.12->cryptography>=36.0.0->pdfminer.six==20231228->pdfplumber) (2.22)
In [13]:
# Define the start and end phrases for each section and each year
section_details = {
    '2007': {
        'auditor_report': ('Report of the Statutory Auditor', 'Financial review'),
        'financial_notes': ('Notes to the Financial Statements', 'Proposed appropriation of retained earnings.')
    },
    '2008': {
        'auditor_report': ('Report of the Statutory Auditor', 'Financial review'),
        'financial_notes': ('Notes to the Financial Statements', 'Proposed appropriation of retained earnings.')
    },
    # Add mappings for each year up to 2014
    '2015': {
        'auditor_report': ('Report of the Statutory Auditor', 'Parent company financial statements'),
        'financial_notes': ('Notes to the Financial Statements', 'Proposed appropriation of retained earnings.')
    },
    '2016': {
        'auditor_report': ('Report of the Statutory Auditor', 'Parent company financial statements'),
        'financial_notes': ('Notes to the Financial Statements', 'Proposed appropriation of retained earnings.')
    },
    '2017': {
        'auditor_report': ('Report of the Statutory Auditor', 'Parent company financial statements'),
        'financial_notes': ('Notes to the Financial Statements', 'Proposed appropriation of retained earnings.')
    },
    '2018': {
        'auditor_report': ('Report of the Statutory Auditor', 'Parent company financial statements'),
        'financial_notes': ('Notes to the Financial Statements', 'Proposed appropriation of reserves and retained earnings.')
    },
    '2019': {
        'auditor_report': ('Report of the Statutory Auditor', 'Parent company financial statements'),
        'financial_notes': ('Notes to the Financial Statements', 'Proposed appropriation of retained earnings and capital distribution.')
    },
    '2020': {
        'auditor_report': ('Report of the Statutory Auditor', 'Parent company financial statements'),
        'financial_notes': ('Notes to the Financial Statements', 'Proposed appropriation of retained earnings and capital distribution.')
    },
    '2021': {
        'auditor_report': ('Report of the Statutory Auditor', 'Parent company financial statements'),
        'financial_notes': ('Notes to the Financial Statements', 'Proposed appropriation of retained earnings and capital distribution.')
    },
    '2022': {
        'auditor_report': ('Report of the Statutory Auditor', 'Parent company financial statements'),
        'financial_notes': ('Notes to the Financial Statements', 'Proposed appropriation of accumulated losses and capital distribution.')
    },
    '2023': {
        'auditor_report': ('Report of the Statutory Auditor', 'Parent company financial statements'),
        'financial_notes': ('Notes to the Financial Statements', 'Proposed appropriation of accumulated losses.')
    }
}
In [19]:
import pdfplumber

# Function to extract text between two phrases
def extract_text_between_phrases(text, start_phrase, end_phrase):
    try:
        start_index = text.index(start_phrase) + len(start_phrase)
        end_index = text.index(end_phrase, start_index)
        return text[start_index:end_index].strip()
    except ValueError:
        return "Section not found or text too short"  # Return a placeholder if the phrases are not found

# Function to extract specified sections from PDF
def extract_section_from_pdf(pdf_path, details):
    with pdfplumber.open(pdf_path) as pdf:
        full_text = ''
        for page in pdf.pages:
            full_text += page.extract_text() or ''  # Concatenate text, ensuring no None is added

    results = {}
    for section, phrases in details.items():
        extracted_text = extract_text_between_phrases(full_text, *phrases)
        results[section] = extracted_text
    return results

# Ensure your section_details dictionary is comprehensive for all years and sections
# Define the start and end phrases for each section and each year
section_details = {
    '2007': {
        'auditor_report': ('Report of the Statutory Auditor', 'Financial review'),
        'financial_notes': ('Notes to the Financial Statements', 'Proposed appropriation of retained earnings.')
    },
    '2008': {
        'auditor_report': ('Report of the Statutory Auditor', 'Financial review'),
        'financial_notes': ('Notes to the Financial Statements', 'Proposed appropriation of retained earnings.')
    },
    # Add mappings for each year up to 2014
    '2015': {
        'auditor_report': ('Report of the Statutory Auditor', 'Parent company financial statements'),
        'financial_notes': ('Notes to the Financial Statements', 'Proposed appropriation of retained earnings.')
    },
    '2016': {
        'auditor_report': ('Report of the Statutory Auditor', 'Parent company financial statements'),
        'financial_notes': ('Notes to the Financial Statements', 'Proposed appropriation of retained earnings.')
    },
    '2017': {
        'auditor_report': ('Report of the Statutory Auditor', 'Parent company financial statements'),
        'financial_notes': ('Notes to the Financial Statements', 'Proposed appropriation of retained earnings.')
    },
    '2018': {
        'auditor_report': ('Report of the Statutory Auditor', 'Parent company financial statements'),
        'financial_notes': ('Notes to the Financial Statements', 'Proposed appropriation of reserves and retained earnings.')
    },
    '2019': {
        'auditor_report': ('Report of the Statutory Auditor', 'Parent company financial statements'),
        'financial_notes': ('Notes to the Financial Statements', 'Proposed appropriation of retained earnings and capital distribution.')
    },
    '2020': {
        'auditor_report': ('Report of the Statutory Auditor', 'Parent company financial statements'),
        'financial_notes': ('Notes to the Financial Statements', 'Proposed appropriation of retained earnings and capital distribution.')
    },
    '2021': {
        'auditor_report': ('Report of the Statutory Auditor', 'Parent company financial statements'),
        'financial_notes': ('Notes to the Financial Statements', 'Proposed appropriation of retained earnings and capital distribution.')
    },
    '2022': {
        'auditor_report': ('Report of the Statutory Auditor', 'Parent company financial statements'),
        'financial_notes': ('Notes to the Financial Statements', 'Proposed appropriation of accumulated losses and capital distribution.')
    },
    '2023': {
        'auditor_report': ('Report of the Statutory Auditor', 'Parent company financial statements'),
        'financial_notes': ('Notes to the Financial Statements', 'Proposed appropriation of accumulated losses.')
    }
}

# Example usage for multiple PDFs
for year in range(2007, 2024):  # Adjust the range according to your files
    pdf_path = f'/content/{year}.pdf'
    if str(year) in section_details:
        analysis = extract_section_from_pdf(pdf_path, section_details[str(year)])
        print(f"Year: {year}, Auditor Report: [{analysis['auditor_report'][:500]}], Financial Notes: [{analysis['financial_notes'][:500]}]")
    else:
        print(f"Details for year {year} are not defined.")
Year: 2007, Auditor Report: [s
financial statements
340], Financial Notes: [Section not found or text too short]
Year: 2008, Auditor Report: [s
financial statements
385], Financial Notes: [Section not found or text too short]
Details for year 2009 are not defined.
Details for year 2010 are not defined.
Details for year 2011 are not defined.
Details for year 2012 are not defined.
Details for year 2013 are not defined.
Details for year 2014 are not defined.
Year: 2015, Auditor Report: [financial statements
511 Parent company financial
– Credit Suisse (Bank)
statements
514 Notes to the financial statements
(see the following page for a detailed list)
546 Proposed appropriation
of retained earnings], Financial Notes: [Section not found or text too short]
Year: 2016, Auditor Report: [505
financial statements], Financial Notes: [Section not found or text too short]
Year: 2017, Auditor Report: [499
financial statements], Financial Notes: [Section not found or text too short]
Year: 2018, Auditor Report: [519], Financial Notes: [Section not found or text too short]
Year: 2019, Auditor Report: [507], Financial Notes: [Section not found or text too short]
Year: 2020, Auditor Report: [523], Financial Notes: [Section not found or text too short]
Year: 2021, Auditor Report: [533], Financial Notes: [Section not found or text too short]
Year: 2022, Auditor Report: [509], Financial Notes: [Section not found or text too short]
Year: 2023, Auditor Report: [Report of the statutory auditor
to the General Meeting of Credit Suisse AG, Zurich
Report on the audit of the financial statements
Opinion
We have audited the financial statements of Credit Suisse AG (the Company), which comprise the statement of income,
balance sheet and notes to the financial statements for the year ended December 31, 2023, including a summary of sig-
nificant accounting policies.
In our opinion, the financial statements (pages 9 to 51) comply with Swiss law and the Company’s ], Financial Notes: [Section not found or text too short]
In [ ]:
