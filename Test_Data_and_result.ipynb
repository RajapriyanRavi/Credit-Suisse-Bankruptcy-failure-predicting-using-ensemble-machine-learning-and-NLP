{
  "nbformat": 4,
  "nbformat_minor": 0,
  "metadata": {
    "colab": {
      "provenance": []
    },
    "kernelspec": {
      "name": "python3",
      "display_name": "Python 3"
    },
    "language_info": {
      "name": "python"
    }
  },
  "cells": [
    {
      "cell_type": "markdown",
      "source": [
        "Test Data"
      ],
      "metadata": {
        "id": "2xCpHQusAUkq"
      }
    },
    {
      "cell_type": "code",
      "source": [
        "import pandas as pd\n",
        "\n",
        "# Load the Excel file\n",
        "xls = pd.ExcelFile('/content/Income&Expensemaster.xlsx')\n",
        "\n",
        "# Load specific sheets\n",
        "income_expense = pd.read_excel(xls, 'Income&Expense')\n",
        "balance_sheet = pd.read_excel(xls, 'BalanceSheet')\n",
        "\n",
        "# Print column names to verify\n",
        "print(\"Income & Expense Columns:\", income_expense.columns)\n",
        "print(\"Balance Sheet Columns:\", balance_sheet.columns)\n"
      ],
      "metadata": {
        "colab": {
          "base_uri": "https://localhost:8080/"
        },
        "id": "SlsgimLPA3_J",
        "outputId": "09b0a748-6147-4048-f1c6-4eea9a614e5f"
      },
      "execution_count": null,
      "outputs": [
        {
          "output_type": "stream",
          "name": "stdout",
          "text": [
            "Income & Expense Columns: Index(['Particulars',          2023,          2022,          2021,\n",
            "                2020,          2019,          2018,          2017,\n",
            "                2016,          2015,          2014,          2013,\n",
            "                2012,          2011,          2010,          2009,\n",
            "                2008,          2007],\n",
            "      dtype='object')\n",
            "Balance Sheet Columns: Index(['Particulars',          2023,          2022,          2021,\n",
            "                2020,          2019,          2018,          2017,\n",
            "                2016,          2015,          2014,          2013,\n",
            "                2012,          2011,          2010,          2009,\n",
            "                2008,          2007],\n",
            "      dtype='object')\n"
          ]
        }
      ]
    },
    {
      "cell_type": "code",
      "source": [
        "pip install openpyxl"
      ],
      "metadata": {
        "colab": {
          "base_uri": "https://localhost:8080/"
        },
        "id": "9qile7TS4V8n",
        "outputId": "b17eaa75-4fa6-4943-ad29-af0144fd48fd"
      },
      "execution_count": null,
      "outputs": [
        {
          "output_type": "stream",
          "name": "stdout",
          "text": [
            "Requirement already satisfied: openpyxl in /usr/local/lib/python3.10/dist-packages (3.1.5)\n",
            "Requirement already satisfied: et-xmlfile in /usr/local/lib/python3.10/dist-packages (from openpyxl) (2.0.0)\n"
          ]
        }
      ]
    },
    {
      "cell_type": "code",
      "source": [
        "import pandas as pd\n",
        "\n",
        "def fill_na_with_column_mean(df):\n",
        "    # Exclude 'Particulars' from mean calculation and fillna operation\n",
        "    numeric_cols = df.columns.drop('Particulars')\n",
        "    df[numeric_cols] = df[numeric_cols].apply(pd.to_numeric, errors='coerce')  # Convert columns to numeric, coerce errors\n",
        "    df[numeric_cols] = df[numeric_cols].fillna(df[numeric_cols].mean())  # Fill NA/NaN with mean of each column\n",
        "    return df\n",
        "\n",
        "# Load the data\n",
        "income_expense = pd.read_excel('Income&Expensemaster.xlsx', sheet_name='Income&Expense')\n",
        "balance_sheet = pd.read_excel('Income&Expensemaster.xlsx', sheet_name='BalanceSheet')\n",
        "\n",
        "# Replace NA and NULL values with the mean of each column, excluding non-numeric columns\n",
        "income_expense_cleaned = fill_na_with_column_mean(income_expense)\n",
        "balance_sheet_cleaned = fill_na_with_column_mean(balance_sheet)\n",
        "\n",
        "# Save the cleaned data back to an Excel file\n",
        "with pd.ExcelWriter('Processed_CreditSuisse_Data.xlsx') as writer:\n",
        "    income_expense_cleaned.to_excel(writer, sheet_name='Income&Expense', index=False)\n",
        "    balance_sheet_cleaned.to_excel(writer, sheet_name='BalanceSheet', index=False)\n",
        "\n",
        "print(\"Data processing complete and saved to 'Processed_CreditSuisse_Data.xlsx'.\")\n",
        "\n"
      ],
      "metadata": {
        "colab": {
          "base_uri": "https://localhost:8080/"
        },
        "id": "PlEGYhg6Aol7",
        "outputId": "f6695fea-73c2-40eb-dfa5-327e76293499"
      },
      "execution_count": null,
      "outputs": [
        {
          "output_type": "stream",
          "name": "stdout",
          "text": [
            "Data processing complete and saved to 'Processed_CreditSuisse_Data.xlsx'.\n"
          ]
        }
      ]
    },
    {
      "cell_type": "markdown",
      "source": [
        "Current Assets"
      ],
      "metadata": {
        "id": "yw_myGv8Flf7"
      }
    },
    {
      "cell_type": "code",
      "source": [
        "import pandas as pd\n",
        "\n",
        "# Load the balance sheet data from the specific file and sheet\n",
        "balance_sheet = pd.read_excel('/content/Processed_CreditSuisse_Data.xlsx', sheet_name='BalanceSheet')\n",
        "\n",
        "# Define the rows that contribute to current assets\n",
        "current_assets_items = [\n",
        "    \"Cash and other liquid assets\",\n",
        "    \"Money market instruments\",\n",
        "    \"Due from banks\",\n",
        "    \"Securities and precious metals trading portfolio\",\n",
        "    \"Due from customers\",\n",
        "    \"Trading assets\",\n",
        "    \"Positive replacement values of derivative financial instruments\",\n",
        "    \"Other financial instruments held at fair value\",\n",
        "    \"Accrued income and prepaid expenses\"\n",
        "]\n",
        "\n",
        "# Filter the balance sheet to include only the rows for current assets\n",
        "current_assets_data = balance_sheet[balance_sheet['Particulars'].isin(current_assets_items)]\n",
        "\n",
        "# Since the data might have years as columns, sum across the rows for each year to get total current assets\n",
        "current_assets_annual = current_assets_data.iloc[:, 1:].sum()  # Skip the 'Particulars' column\n",
        "\n",
        "# Convert the series to a DataFrame for easier manipulation and to properly define column names\n",
        "current_assets_df = pd.DataFrame(current_assets_annual, columns=['current_assets']).reset_index()\n",
        "current_assets_df.rename(columns={'index': 'Year'}, inplace=True)\n",
        "\n",
        "# Save to Excel if needed\n",
        "current_assets_df.to_excel('Annual_Current_Assets.xlsx', index=False)\n",
        "\n",
        "print(\"Current assets calculation completed and saved.\")\n"
      ],
      "metadata": {
        "colab": {
          "base_uri": "https://localhost:8080/"
        },
        "id": "YqI3f2voCGi_",
        "outputId": "396d76a4-c7da-4980-b6cf-5288d006f33e"
      },
      "execution_count": null,
      "outputs": [
        {
          "output_type": "stream",
          "name": "stdout",
          "text": [
            "Current assets calculation completed and saved.\n"
          ]
        }
      ]
    },
    {
      "cell_type": "markdown",
      "source": [
        "Cost of goods sold- Direct expense as proxy"
      ],
      "metadata": {
        "id": "xaKBQ5dfHL1J"
      }
    },
    {
      "cell_type": "code",
      "source": [
        "import pandas as pd\n",
        "\n",
        "# Load the Income & Expense data\n",
        "income_expense = pd.read_excel('Processed_CreditSuisse_Data.xlsx', sheet_name='Income&Expense')\n",
        "\n",
        "# Define the rows that contribute to the cost of goods sold (using proxies as discussed)\n",
        "cogs_items = [\n",
        "    \"Interest expense\",\n",
        "    \"Commission expense\"\n",
        "]\n",
        "\n",
        "# Filter the data to include only the rows for cost of goods sold\n",
        "cogs_data = income_expense[income_expense['Particulars'].isin(cogs_items)]\n",
        "\n",
        "# Sum across the rows for each year to get total cost of goods sold\n",
        "cogs_annual = cogs_data.iloc[:, 1:].sum()  # Skip the 'Particulars' column\n",
        "\n",
        "# Convert the series to a DataFrame for easier manipulation and to properly define column names\n",
        "cogs_df = pd.DataFrame(cogs_annual, columns=['cost_of_goods_sold']).reset_index()\n",
        "cogs_df.rename(columns={'index': 'Year'}, inplace=True)\n",
        "\n",
        "# Save to Excel\n",
        "cogs_df.to_excel('Annual_COGS.xlsx', index=False)\n",
        "\n",
        "print(\"Cost of Goods Sold calculation completed and saved.\")\n"
      ],
      "metadata": {
        "colab": {
          "base_uri": "https://localhost:8080/"
        },
        "id": "mycPzar0FtVX",
        "outputId": "2228a337-6f40-4fe1-8e30-d4ca2aad7908"
      },
      "execution_count": null,
      "outputs": [
        {
          "output_type": "stream",
          "name": "stdout",
          "text": [
            "Cost of Goods Sold calculation completed and saved.\n"
          ]
        }
      ]
    },
    {
      "cell_type": "markdown",
      "source": [
        "depriciation"
      ],
      "metadata": {
        "id": "c9snqcMYINsf"
      }
    },
    {
      "cell_type": "code",
      "source": [
        "import pandas as pd\n",
        "\n",
        "# Load the data\n",
        "income_expense = pd.read_excel('Processed_CreditSuisse_Data.xlsx', sheet_name='Income&Expense')\n",
        "\n",
        "# Define the row for depreciation and amortization\n",
        "dep_amort_item = \"Impairment of participations, depreciation and amortization of tangible fixed assets and intangible assets\"\n",
        "\n",
        "# Select the row with depreciation and amortization data\n",
        "dep_amort_data = income_expense[income_expense['Particulars'] == dep_amort_item]\n",
        "\n",
        "# Extract only the yearly data and convert it to a DataFrame\n",
        "dep_amort_annual = dep_amort_data.iloc[0, 1:]  # skip 'Particulars' column\n",
        "dep_amort_df = pd.DataFrame(dep_amort_annual)\n",
        "\n",
        "# Transpose to get years as rows\n",
        "dep_amort_df = dep_amort_df.transpose()\n",
        "\n",
        "# Reset the index to make 'Year' a column\n",
        "dep_amort_df.reset_index(inplace=True)\n",
        "\n",
        "# Print the structure to check it before renaming columns\n",
        "print(dep_amort_df.head())\n",
        "print(dep_amort_df.columns)\n",
        "\n",
        "# If the structure is correct and there are indeed two columns, set the column names\n",
        "if len(dep_amort_df.columns) == 2:\n",
        "    dep_amort_df.columns = ['Year', 'depreciation_amortization']\n",
        "    print(\"Columns renamed successfully.\")\n",
        "else:\n",
        "    print(\"Column mismatch error: expected 2 columns, found\", len(dep_amort_df.columns))\n",
        "\n",
        "# Optionally, convert the 'Year' from column names to a proper datetime format if necessary\n",
        "# dep_amort_df['Year'] = pd.to_datetime(dep_amort_df['Year'], format='%Y')\n",
        "\n",
        "# Save to Excel\n",
        "dep_amort_df.to_excel('Depreciation_and_Amortization_Annual.xlsx', index=False)\n",
        "\n",
        "print(\"Depreciation and Amortization data is processed and saved.\")\n"
      ],
      "metadata": {
        "colab": {
          "base_uri": "https://localhost:8080/"
        },
        "id": "qhbsBAfQHQAc",
        "outputId": "818241d7-ba2b-4abb-aae6-37ad6dd4a127"
      },
      "execution_count": null,
      "outputs": [
        {
          "output_type": "stream",
          "name": "stdout",
          "text": [
            "   index  2023   2022   2021  2020   2019  2018 2017  2016  2015  2014  \\\n",
            "0     24  3571  12379  12884  4834  18288  2126  432  1459  5401  4517   \n",
            "\n",
            "     2013    2012   2011    2010   2009  2008    2007  \n",
            "0  2894.0  3267.0  602.0  5444.0  661.0  4753  1251.0  \n",
            "Index(['index',    2023,    2022,    2021,    2020,    2019,    2018,    2017,\n",
            "          2016,    2015,    2014,    2013,    2012,    2011,    2010,    2009,\n",
            "          2008,    2007],\n",
            "      dtype='object')\n",
            "Column mismatch error: expected 2 columns, found 18\n",
            "Depreciation and Amortization data is processed and saved.\n"
          ]
        }
      ]
    },
    {
      "cell_type": "code",
      "source": [
        "import pandas as pd\n",
        "\n",
        "# Load the processed data\n",
        "income_expense_path = \"Processed_CreditSuisse_Data.xlsx\"\n",
        "income_sheet = pd.read_excel(income_expense_path, sheet_name='Income&Expense', index_col=0)\n",
        "\n",
        "# We'll calculate EBITDA as:\n",
        "# EBITDA = Net Operating Income + Interest Expense + Taxes + Depreciation & Amortization\n",
        "\n",
        "# Extract necessary rows\n",
        "net_operating_income = income_sheet.loc['Net Operating income']\n",
        "interest_expense = -income_sheet.loc['Interest expense']  # Negate since it's an expense\n",
        "taxes = -income_sheet.loc['Taxes']  # Negate since it's an expense\n",
        "depreciation_amortization = income_sheet.loc['Impairment of participations, depreciation and amortization of tangible fixed assets and intangible assets']\n",
        "\n",
        "# Combine all components\n",
        "ebitda = net_operating_income + interest_expense + taxes + depreciation_amortization\n",
        "\n",
        "# Create DataFrame for easier handling and visualization\n",
        "ebitda_df = pd.DataFrame(ebitda, columns=['EBITDA'])\n",
        "ebitda_df.reset_index(inplace=True)\n",
        "ebitda_df.rename(columns={'index': 'Year'}, inplace=True)\n",
        "\n",
        "# Save the final EBITDA calculations to an Excel file\n",
        "ebitda_df.to_excel(\"EBITDA_Credit_Suisse.xlsx\", index=False)\n",
        "\n",
        "print(\"EBITDA calculation completed and saved.\")\n"
      ],
      "metadata": {
        "id": "WtxYLjjWITwc",
        "colab": {
          "base_uri": "https://localhost:8080/"
        },
        "outputId": "3d3b71a8-a9ba-457b-d2d3-4a28bd317959"
      },
      "execution_count": null,
      "outputs": [
        {
          "output_type": "stream",
          "name": "stdout",
          "text": [
            "EBITDA calculation completed and saved.\n"
          ]
        }
      ]
    },
    {
      "cell_type": "code",
      "source": [
        "import pandas as pd\n",
        "\n",
        "# Load the data\n",
        "df_balance_sheet = pd.read_excel('Processed_CreditSuisse_Data.xlsx', sheet_name='BalanceSheet')\n",
        "\n",
        "# Columns representing the years\n",
        "year_columns = df_balance_sheet.columns[1:]  # Adjust based on actual column indexing\n",
        "\n",
        "# Extracting 'Trading assets' as a proxy for Inventory\n",
        "inventory_proxy = df_balance_sheet[df_balance_sheet['Particulars'] == 'Trading assets'][year_columns].transpose()\n",
        "inventory_proxy.columns = ['Inventory']\n",
        "\n",
        "# Reset index to turn the years into a column\n",
        "inventory_proxy.reset_index(inplace=True)\n",
        "inventory_proxy.rename(columns={'index': 'Year'}, inplace=True)\n",
        "\n",
        "# Optionally, save this data\n",
        "inventory_proxy.to_excel('Inventory_Proxy_Data.xlsx', index=False)\n",
        "\n",
        "print(inventory_proxy)\n"
      ],
      "metadata": {
        "colab": {
          "base_uri": "https://localhost:8080/"
        },
        "id": "-Y93UIBCZkcP",
        "outputId": "b102f2b8-8988-4bc3-db2d-d55bb7795388"
      },
      "execution_count": null,
      "outputs": [
        {
          "output_type": "stream",
          "name": "stdout",
          "text": [
            "    Year      Inventory\n",
            "0   2023    7217.000000\n",
            "1   2022   26072.000000\n",
            "2   2021   39410.000000\n",
            "3   2020   49116.000000\n",
            "4   2019   51640.000000\n",
            "5   2018   42781.000000\n",
            "6   2017   48629.000000\n",
            "7   2016   17586.000000\n",
            "8   2015   31710.000000\n",
            "9   2014  107299.083333\n",
            "10  2013   96029.722222\n",
            "11  2012   95584.228571\n",
            "12  2011   99660.457143\n",
            "13  2010  109061.875000\n",
            "14  2009  106301.750000\n",
            "15  2008  122207.000000\n",
            "16  2007  126601.062500\n"
          ]
        }
      ]
    },
    {
      "cell_type": "code",
      "source": [
        "import pandas as pd\n",
        "\n",
        "# Load the data\n",
        "df_income_expense = pd.read_excel('Processed_CreditSuisse_Data.xlsx', sheet_name='Income&Expense')\n",
        "\n",
        "# Columns representing the years\n",
        "year_columns = df_income_expense.columns[1:]  # Adjust based on actual column indexing\n",
        "\n",
        "# Extracting 'Net profit/(loss)' as 'Net income'\n",
        "net_income = df_income_expense[df_income_expense['Particulars'] == 'Net profit/(loss)'][year_columns].transpose()\n",
        "net_income.columns = ['Net Income']\n",
        "\n",
        "# Reset index to turn the years into a column\n",
        "net_income.reset_index(inplace=True)\n",
        "net_income.rename(columns={'index': 'Year'}, inplace=True)\n",
        "\n",
        "# Optionally, save this data\n",
        "net_income.to_excel('Net_Income_Data.xlsx', index=False)\n",
        "\n",
        "print(net_income)\n"
      ],
      "metadata": {
        "colab": {
          "base_uri": "https://localhost:8080/"
        },
        "id": "vn8D7Ix-blQg",
        "outputId": "6ee87d86-8d78-425a-f6ce-cf21165def7c"
      },
      "execution_count": null,
      "outputs": [
        {
          "output_type": "stream",
          "name": "stdout",
          "text": [
            "    Year  Net Income\n",
            "0   2023     10126.0\n",
            "1   2022    -12565.0\n",
            "2   2021    -11009.0\n",
            "3   2020       331.0\n",
            "4   2019    -11385.0\n",
            "5   2018      -647.0\n",
            "6   2017       225.0\n",
            "7   2016     -2837.0\n",
            "8   2015     -2877.0\n",
            "9   2014     -3092.0\n",
            "10  2013      1066.0\n",
            "11  2012       183.0\n",
            "12  2011      1276.0\n",
            "13  2010     -2674.0\n",
            "14  2009       378.0\n",
            "15  2008     -2240.0\n",
            "16  2007      3625.0\n"
          ]
        }
      ]
    },
    {
      "cell_type": "code",
      "source": [
        "import pandas as pd\n",
        "\n",
        "# Load the data\n",
        "df_balance_sheet = pd.read_excel('Processed_CreditSuisse_Data.xlsx', sheet_name='BalanceSheet')\n",
        "\n",
        "# Columns representing the years\n",
        "year_columns = df_balance_sheet.columns[1:]  # Adjust based on actual column indexing\n",
        "\n",
        "# Extracting 'Due from customers' as 'Total Receivables'\n",
        "total_receivables = df_balance_sheet[df_balance_sheet['Particulars'] == 'Due from customers'][year_columns].transpose()\n",
        "total_receivables.columns = ['Total Receivables']\n",
        "\n",
        "# Reset index to turn the years into a column\n",
        "total_receivables.reset_index(inplace=True)\n",
        "total_receivables.rename(columns={'index': 'Year'}, inplace=True)\n",
        "\n",
        "# Optionally, save this data\n",
        "total_receivables.to_excel('Total_Receivables_Data.xlsx', index=False)\n",
        "\n",
        "print(total_receivables)\n"
      ],
      "metadata": {
        "colab": {
          "base_uri": "https://localhost:8080/"
        },
        "id": "y422Y0sib0em",
        "outputId": "4ff91579-932b-4cf1-ad3b-2b91d9856950"
      },
      "execution_count": null,
      "outputs": [
        {
          "output_type": "stream",
          "name": "stdout",
          "text": [
            "    Year  Total Receivables\n",
            "0   2023            67628.0\n",
            "1   2022           117543.0\n",
            "2   2021           153874.0\n",
            "3   2020           172051.0\n",
            "4   2019           185713.0\n",
            "5   2018           177104.0\n",
            "6   2017           193106.0\n",
            "7   2016           180426.0\n",
            "8   2015           241190.0\n",
            "9   2014           233422.0\n",
            "10  2013           192376.0\n",
            "11  2012           188085.0\n",
            "12  2011           167712.0\n",
            "13  2010           173743.0\n",
            "14  2009           198696.0\n",
            "15  2008           201661.0\n",
            "16  2007           241880.0\n"
          ]
        }
      ]
    },
    {
      "cell_type": "code",
      "source": [
        "import pandas as pd\n",
        "\n",
        "# Load the data\n",
        "df_balance_sheet = pd.read_excel('Processed_CreditSuisse_Data.xlsx', sheet_name='BalanceSheet')\n",
        "\n",
        "# Columns representing the years\n",
        "year_columns = df_balance_sheet.columns[1:]  # Adjust based on actual column indexing\n",
        "\n",
        "# Extracting 'Total Assets' as 'Market Value'\n",
        "market_value = df_balance_sheet[df_balance_sheet['Particulars'] == 'Total assets'][year_columns].transpose()\n",
        "market_value.columns = ['Market Value']\n",
        "\n",
        "# Reset index to turn the years into a column\n",
        "market_value.reset_index(inplace=True)\n",
        "market_value.rename(columns={'index': 'Year'}, inplace=True)\n",
        "\n",
        "# Optionally, save this data\n",
        "market_value.to_excel('Market_Value_Data.xlsx', index=False)\n",
        "\n",
        "print(market_value)\n"
      ],
      "metadata": {
        "colab": {
          "base_uri": "https://localhost:8080/"
        },
        "id": "gqtioUEJcJei",
        "outputId": "5c21d5c0-2e7e-40b0-db33-926aab8fef1e"
      },
      "execution_count": null,
      "outputs": [
        {
          "output_type": "stream",
          "name": "stdout",
          "text": [
            "    Year  Market Value\n",
            "0   2023      257935.0\n",
            "1   2022      378363.0\n",
            "2   2021      539213.0\n",
            "3   2020      548675.0\n",
            "4   2019      569296.0\n",
            "5   2018      532816.0\n",
            "6   2017      576218.0\n",
            "7   2016      507800.0\n",
            "8   2015      662010.0\n",
            "9   2014      682347.0\n",
            "10  2013      606362.0\n",
            "11  2012      589063.0\n",
            "12  2011      620611.0\n",
            "13  2010      618652.0\n",
            "14  2009      597255.0\n",
            "15  2008      686901.0\n",
            "16  2007      715602.0\n"
          ]
        }
      ]
    },
    {
      "cell_type": "code",
      "source": [
        "import pandas as pd\n",
        "\n",
        "# Load the data\n",
        "df_income_expense = pd.read_excel('Processed_CreditSuisse_Data.xlsx', sheet_name='Income&Expense')\n",
        "\n",
        "# Columns representing the years\n",
        "year_columns = df_income_expense.columns[1:]  # Adjust based on actual column indexing\n",
        "\n",
        "# Define the parts that make up 'Net Sales'\n",
        "components = [\n",
        "    \"Net income from commission and service activities\",\n",
        "    \"Net income from interest activities\",\n",
        "    \"Net income/(loss) from trading activities and fair value option\"\n",
        "]\n",
        "\n",
        "# Extract the relevant rows and sum them to approximate 'Net Sales'\n",
        "net_sales = df_income_expense[df_income_expense['Particulars'].isin(components)][year_columns].sum().to_frame()\n",
        "net_sales.columns = ['Net Sales']\n",
        "\n",
        "# Reset index to turn the years into a column\n",
        "net_sales.reset_index(inplace=True)\n",
        "net_sales.rename(columns={'index': 'Year'}, inplace=True)\n",
        "\n",
        "# Optionally, save this data\n",
        "net_sales.to_excel('Net_Sales_Data.xlsx', index=False)\n",
        "\n",
        "print(net_sales)\n"
      ],
      "metadata": {
        "colab": {
          "base_uri": "https://localhost:8080/"
        },
        "id": "c3XhqPCZcWgb",
        "outputId": "94731c35-d92b-4870-e7e6-fd1be89ad6cb"
      },
      "execution_count": null,
      "outputs": [
        {
          "output_type": "stream",
          "name": "stdout",
          "text": [
            "    Year  Net Sales\n",
            "0   2023    -1079.0\n",
            "1   2022     1492.0\n",
            "2   2021     4100.0\n",
            "3   2020     6458.0\n",
            "4   2019     4816.0\n",
            "5   2018     4126.0\n",
            "6   2017     4340.0\n",
            "7   2016     4352.0\n",
            "8   2015     9669.0\n",
            "9   2014    10079.0\n",
            "10  2013     9666.0\n",
            "11  2012     8192.0\n",
            "12  2011     8402.0\n",
            "13  2010     8515.0\n",
            "14  2009     7509.0\n",
            "15  2008     8664.0\n",
            "16  2007    12004.0\n"
          ]
        }
      ]
    },
    {
      "cell_type": "code",
      "source": [
        "import pandas as pd\n",
        "\n",
        "# Load the data\n",
        "df_balance_sheet = pd.read_excel('Processed_CreditSuisse_Data.xlsx', sheet_name='BalanceSheet')\n",
        "\n",
        "# Columns representing the years\n",
        "year_columns = df_balance_sheet.columns[1:]  # Adjust based on actual column indexing\n",
        "\n",
        "# Extract the row for 'Total assets'\n",
        "total_assets = df_balance_sheet[df_balance_sheet['Particulars'] == \"Total assets\"][year_columns].transpose()\n",
        "total_assets.columns = ['Total Assets']\n",
        "\n",
        "# Reset index to turn the years into a column\n",
        "total_assets.reset_index(inplace=True)\n",
        "total_assets.rename(columns={'index': 'Year'}, inplace=True)\n",
        "\n",
        "# Optionally, save this data\n",
        "total_assets.to_excel('Total_Assets_Data.xlsx', index=False)\n",
        "\n",
        "print(total_assets)\n"
      ],
      "metadata": {
        "colab": {
          "base_uri": "https://localhost:8080/"
        },
        "id": "nBEGQuExc3k_",
        "outputId": "03de55a4-9334-4306-aa1a-ab3bc1577281"
      },
      "execution_count": null,
      "outputs": [
        {
          "output_type": "stream",
          "name": "stdout",
          "text": [
            "    Year  Total Assets\n",
            "0   2023      257935.0\n",
            "1   2022      378363.0\n",
            "2   2021      539213.0\n",
            "3   2020      548675.0\n",
            "4   2019      569296.0\n",
            "5   2018      532816.0\n",
            "6   2017      576218.0\n",
            "7   2016      507800.0\n",
            "8   2015      662010.0\n",
            "9   2014      682347.0\n",
            "10  2013      606362.0\n",
            "11  2012      589063.0\n",
            "12  2011      620611.0\n",
            "13  2010      618652.0\n",
            "14  2009      597255.0\n",
            "15  2008      686901.0\n",
            "16  2007      715602.0\n"
          ]
        }
      ]
    },
    {
      "cell_type": "code",
      "source": [
        "import pandas as pd\n",
        "\n",
        "# Load the data\n",
        "df_balance_sheet = pd.read_excel('Processed_CreditSuisse_Data.xlsx', sheet_name='BalanceSheet')\n",
        "\n",
        "# Columns representing the years\n",
        "year_columns = df_balance_sheet.columns[1:]  # Adjust based on actual column indexing\n",
        "\n",
        "# Identify and sum relevant rows for long-term debt\n",
        "# Adjust the rows being summed based on actual data and definitions in your dataset\n",
        "long_term_debt_items = ['Bonds and mortgage-backed bonds']\n",
        "\n",
        "# Filter rows and sum the relevant data\n",
        "total_long_term_debt = df_balance_sheet[df_balance_sheet['Particulars'].isin(long_term_debt_items)].loc[:, year_columns].sum()\n",
        "\n",
        "# Convert the series to a DataFrame for easier manipulation and to properly define column names\n",
        "total_long_term_debt_df = pd.DataFrame(total_long_term_debt, columns=['Total Long Term Debt'])\n",
        "\n",
        "# Reset index to turn the years into a column\n",
        "total_long_term_debt_df.reset_index(inplace=True)\n",
        "total_long_term_debt_df.rename(columns={'index': 'Year'}, inplace=True)\n",
        "\n",
        "# Optionally, save this data\n",
        "total_long_term_debt_df.to_excel('Total_Long_Term_Debt_Data.xlsx', index=False)\n",
        "\n",
        "print(total_long_term_debt_df)\n"
      ],
      "metadata": {
        "colab": {
          "base_uri": "https://localhost:8080/"
        },
        "id": "3C-qb24xdIny",
        "outputId": "4bb3f9fb-36ad-4f44-fe78-b66c7a805e1b"
      },
      "execution_count": null,
      "outputs": [
        {
          "output_type": "stream",
          "name": "stdout",
          "text": [
            "    Year  Total Long Term Debt\n",
            "0   2023               69892.0\n",
            "1   2022              111770.0\n",
            "2   2021              118959.0\n",
            "3   2020              129446.0\n",
            "4   2019              154790.0\n",
            "5   2018              121793.0\n",
            "6   2017              149831.0\n",
            "7   2016              164958.0\n",
            "8   2015              159134.0\n",
            "9   2014              125697.0\n",
            "10  2013               89348.0\n",
            "11  2012              107573.0\n",
            "12  2011              118613.0\n",
            "13  2010              119051.0\n",
            "14  2009              102426.0\n",
            "15  2008               79617.0\n",
            "16  2007               60127.0\n"
          ]
        }
      ]
    },
    {
      "cell_type": "code",
      "source": [
        "import pandas as pd\n",
        "\n",
        "# Load the processed Excel file\n",
        "df_income_expense = pd.read_excel('Processed_CreditSuisse_Data.xlsx', sheet_name='Income&Expense')\n",
        "\n",
        "# Identify the rows for Gross Operating Profit and Total Operating Expenses\n",
        "gross_profit_row = df_income_expense[df_income_expense['Particulars'] == 'Gross operating profit']\n",
        "operating_expenses_row = df_income_expense[df_income_expense['Particulars'] == 'Total operating expenses']\n",
        "\n",
        "# Calculate EBIT for each year\n",
        "ebit = gross_profit_row.iloc[:, 1:].values - operating_expenses_row.iloc[:, 1:].values\n",
        "ebit_df = pd.DataFrame(ebit, columns=gross_profit_row.columns[1:])\n",
        "\n",
        "# Transpose the DataFrame for easier manipulation and saving\n",
        "ebit_df = ebit_df.transpose()\n",
        "ebit_df.columns = ['EBIT']\n",
        "ebit_df['Year'] = ebit_df.index\n",
        "\n",
        "# Reset index and optionally save the result\n",
        "ebit_df.reset_index(drop=True, inplace=True)\n",
        "ebit_df.to_excel('EBIT_Credit_Suisse_2007_to_2023.xlsx', index=False)\n",
        "\n",
        "print(ebit_df)\n"
      ],
      "metadata": {
        "colab": {
          "base_uri": "https://localhost:8080/"
        },
        "id": "mZiKon2_dqa8",
        "outputId": "c0c17a36-ad19-45d4-a27d-af905d9813e0"
      },
      "execution_count": null,
      "outputs": [
        {
          "output_type": "stream",
          "name": "stdout",
          "text": [
            "      EBIT  Year\n",
            "0  -7090.0  2023\n",
            "1  -6370.0  2022\n",
            "2  -4322.0  2021\n",
            "3  -1476.0  2020\n",
            "4  -3921.0  2019\n",
            "5  -3999.0  2018\n",
            "6  -4761.0  2017\n",
            "7  -8093.0  2016\n",
            "8  -4134.0  2015\n",
            "9  -2885.0  2014\n",
            "10 -2165.0  2013\n",
            "11 -3985.0  2012\n",
            "12 -4345.0  2011\n",
            "13 -4294.0  2010\n",
            "14 -5991.0  2009\n",
            "15 -1649.0  2008\n",
            "16  -962.0  2007\n"
          ]
        }
      ]
    },
    {
      "cell_type": "code",
      "source": [
        "import pandas as pd\n",
        "\n",
        "# Load the processed Excel file\n",
        "df_income_expense = pd.read_excel('Processed_CreditSuisse_Data.xlsx', sheet_name='Income&Expense')\n",
        "\n",
        "# Extract the row corresponding to Gross Operating Profit\n",
        "gross_profit_row = df_income_expense[df_income_expense['Particulars'] == 'Gross operating profit']\n",
        "\n",
        "# Since the values start from the second column, we exclude the 'Particulars' column\n",
        "gross_profit = gross_profit_row.iloc[:, 1:]\n",
        "\n",
        "# Transpose the result to have years as rows\n",
        "gross_profit_df = gross_profit.transpose()\n",
        "gross_profit_df.columns = ['Gross Profit']  # Rename the column to 'Gross Profit'\n",
        "gross_profit_df['Year'] = gross_profit_df.index  # Add a 'Year' column based on the DataFrame's index\n",
        "\n",
        "# Reset index to make 'Year' a proper column and not an index\n",
        "gross_profit_df.reset_index(drop=True, inplace=True)\n",
        "\n",
        "# Optionally, you might want to save the DataFrame to an Excel file\n",
        "gross_profit_df.to_excel('Gross_Profit_Credit_Suisse_2007_to_2023.xlsx', index=False)\n",
        "\n",
        "print(gross_profit_df)\n"
      ],
      "metadata": {
        "colab": {
          "base_uri": "https://localhost:8080/"
        },
        "id": "TNnaC_rreO7t",
        "outputId": "e1c92b72-07aa-485d-fe84-4b5e145bb7b3"
      },
      "execution_count": null,
      "outputs": [
        {
          "output_type": "stream",
          "name": "stdout",
          "text": [
            "    Gross Profit  Year\n",
            "0        -1462.0  2023\n",
            "1         -322.0  2022\n",
            "2         1821.0  2021\n",
            "3         4959.0  2020\n",
            "4         2344.0  2019\n",
            "5         1776.0  2018\n",
            "6          857.0  2017\n",
            "7        -1411.0  2016\n",
            "8         3163.0  2015\n",
            "9         3840.0  2014\n",
            "10        4476.0  2013\n",
            "11        3125.0  2012\n",
            "12        2561.0  2011\n",
            "13        2663.0  2010\n",
            "14        1342.0  2009\n",
            "15        3763.0  2008\n",
            "16        5911.0  2007\n"
          ]
        }
      ]
    },
    {
      "cell_type": "code",
      "source": [
        "import pandas as pd\n",
        "\n",
        "# Load the processed Excel file\n",
        "df_balance_sheet = pd.read_excel('Processed_CreditSuisse_Data.xlsx', sheet_name='BalanceSheet')\n",
        "\n",
        "# Define the items that are considered current liabilities\n",
        "current_liabilities_items = [\n",
        "    'Due to banks',\n",
        "    'Securities lending and repurchase agreements',\n",
        "    'Due to customers, savings and investment deposits',\n",
        "    'Due to customers, other deposits',\n",
        "    'Medium-term notes',\n",
        "    'Trading liabilities',\n",
        "    'Negative replacement values of derivative financial instruments',\n",
        "    'Liabilities from other financial instruments held at fair value',\n",
        "    'Accrued expenses and deferred income',\n",
        "    'Other liabilities'\n",
        "]\n",
        "\n",
        "# Filter the data for these items\n",
        "current_liabilities_rows = df_balance_sheet[df_balance_sheet['Particulars'].isin(current_liabilities_items)]\n",
        "\n",
        "# Sum the values across these rows for each year\n",
        "current_liabilities = current_liabilities_rows.iloc[:, 1:].sum()  # skip the 'Particulars' column\n",
        "\n",
        "# Convert the series to a DataFrame for easier manipulation and to properly define column names\n",
        "current_liabilities_df = pd.DataFrame(current_liabilities, columns=['Total Current Liabilities'])\n",
        "current_liabilities_df['Year'] = current_liabilities_df.index  # Add a 'Year' column based on the DataFrame's index\n",
        "\n",
        "# Reset index to make 'Year' a proper column and not an index\n",
        "current_liabilities_df.reset_index(drop=True, inplace=True)\n",
        "\n",
        "# Optionally, you might want to save the DataFrame to an Excel file\n",
        "current_liabilities_df.to_excel('Total_Current_Liabilities_Credit_Suisse_2007_to_2023.xlsx', index=False)\n",
        "\n",
        "print(current_liabilities_df)\n"
      ],
      "metadata": {
        "colab": {
          "base_uri": "https://localhost:8080/"
        },
        "id": "FzOVtGTNeu60",
        "outputId": "6a100409-e444-4ee6-d0fb-8f21ee4e064a"
      },
      "execution_count": null,
      "outputs": [
        {
          "output_type": "stream",
          "name": "stdout",
          "text": [
            "    Total Current Liabilities  Year\n",
            "0                2.334544e+05  2023\n",
            "1                3.543943e+05  2022\n",
            "2                5.394839e+05  2021\n",
            "3                5.327890e+05  2020\n",
            "4                5.335792e+05  2019\n",
            "5                5.027527e+05  2018\n",
            "6                5.249006e+05  2017\n",
            "7                4.290497e+05  2016\n",
            "8                6.236451e+05  2015\n",
            "9                8.646803e+05  2014\n",
            "10               8.007059e+05  2013\n",
            "11               7.885309e+05  2012\n",
            "12               8.125028e+05  2011\n",
            "13               8.670845e+05  2010\n",
            "14               8.691480e+05  2009\n",
            "15               1.019967e+06  2008\n",
            "16               1.060554e+06  2007\n"
          ]
        }
      ]
    },
    {
      "cell_type": "code",
      "source": [
        "import pandas as pd\n",
        "\n",
        "# Load the processed Excel file\n",
        "df_balance_sheet = pd.read_excel('Processed_CreditSuisse_Data.xlsx', sheet_name='BalanceSheet')\n",
        "\n",
        "# Define the item that represents retained earnings\n",
        "retained_earnings_item = \"Retained earnings carried forward\"\n",
        "\n",
        "# Filter the data for this item\n",
        "retained_earnings_row = df_balance_sheet[df_balance_sheet['Particulars'] == retained_earnings_item]\n",
        "\n",
        "# Select the columns for years 2007 to 2023 and transpose the data\n",
        "retained_earnings = retained_earnings_row.iloc[:, 1:].transpose()  # This assumes years are from column 2 onwards\n",
        "retained_earnings.columns = ['Retained Earnings']  # Rename the column after transposing\n",
        "\n",
        "# Reset index to turn the years into a column and correct the DataFrame structure\n",
        "retained_earnings.reset_index(inplace=True)\n",
        "retained_earnings.columns = ['Year', 'Retained Earnings']\n",
        "\n",
        "# Optionally, save the DataFrame to an Excel file\n",
        "retained_earnings.to_excel('Retained_Earnings_Credit_Suisse_2007_to_2023.xlsx', index=False)\n",
        "\n",
        "print(retained_earnings)\n"
      ],
      "metadata": {
        "colab": {
          "base_uri": "https://localhost:8080/"
        },
        "id": "VCuGVdQQe-cX",
        "outputId": "5dcb1010-9351-466c-b4ea-30fc1ac91100"
      },
      "execution_count": null,
      "outputs": [
        {
          "output_type": "stream",
          "name": "stdout",
          "text": [
            "    Year  Retained Earnings\n",
            "0   2023           -30435.0\n",
            "1   2022           -17870.0\n",
            "2   2021           -10886.0\n",
            "3   2020           -11217.0\n",
            "4   2019              168.0\n",
            "5   2018              215.0\n",
            "6   2017                0.0\n",
            "7   2016              226.0\n",
            "8   2015             3113.0\n",
            "9   2014             6215.0\n",
            "10  2013             5159.0\n",
            "11  2012             4986.0\n",
            "12  2011             3720.0\n",
            "13  2010             6404.0\n",
            "14  2009             9304.0\n",
            "15  2008            11554.0\n",
            "16  2007            10768.0\n"
          ]
        }
      ]
    },
    {
      "cell_type": "code",
      "source": [
        "import pandas as pd\n",
        "\n",
        "# Load the processed Excel file\n",
        "df_income_expense = pd.read_excel('Processed_CreditSuisse_Data.xlsx', sheet_name='Income&Expense')\n",
        "\n",
        "# Define the items that represent revenue components\n",
        "revenue_items = [\n",
        "    \"Interest and discount income\",\n",
        "    \"Interest and dividend income from trading activities\",\n",
        "    \"Interest and dividend income from financial investments\",\n",
        "    \"Commission income from securities trading and investment activities\",\n",
        "    \"Commission income from lending activities\",\n",
        "    \"Commission income from other services\",\n",
        "    \"Net income/(loss) from trading activities and fair value option\",\n",
        "    \"Income from participations\",\n",
        "    \"Income from real estate\",\n",
        "    \"Other ordinary income\"\n",
        "]\n",
        "\n",
        "# Filter the data for these items and sum their values to compute total revenue\n",
        "total_revenue = df_income_expense[df_income_expense['Particulars'].isin(revenue_items)].iloc[:, 1:].sum()\n",
        "\n",
        "# Convert the series to a DataFrame for easier manipulation and to properly define column names\n",
        "total_revenue_df = pd.DataFrame(total_revenue, columns=['Total Revenue']).transpose()\n",
        "\n",
        "# Reset index to turn the years into a column, if you want to make 'Year' a separate column\n",
        "total_revenue_df.reset_index(inplace=True)\n",
        "total_revenue_df.rename(columns={'index': 'Year'}, inplace=True)\n",
        "\n",
        "# Optionally, save the DataFrame to an Excel file\n",
        "total_revenue_df.to_excel('Total_Revenue_Credit_Suisse_2007_to_2023.xlsx', index=False)\n",
        "\n",
        "print(total_revenue_df)\n"
      ],
      "metadata": {
        "colab": {
          "base_uri": "https://localhost:8080/"
        },
        "id": "gfvrquYjfSD3",
        "outputId": "8b10dc96-e360-4dde-8feb-4350eb395e7a"
      },
      "execution_count": null,
      "outputs": [
        {
          "output_type": "stream",
          "name": "stdout",
          "text": [
            "            Year     2023     2022     2021     2020     2019     2018  \\\n",
            "0  Total Revenue  18979.0  14663.0  12962.0  19039.0  20554.0  18644.0   \n",
            "\n",
            "      2017     2016     2015     2014     2013     2012     2011     2010  \\\n",
            "0  14324.0  12175.0  16261.0  16946.0  17575.0  17269.0  16999.0  17554.0   \n",
            "\n",
            "      2009     2008     2007  \n",
            "0  18021.0  29606.0  39018.0  \n"
          ]
        }
      ]
    },
    {
      "cell_type": "code",
      "source": [
        "import pandas as pd\n",
        "\n",
        "# Load the Balance Sheet data\n",
        "df_balance_sheet = pd.read_excel(\"Processed_CreditSuisse_Data.xlsx\", sheet_name='BalanceSheet')\n",
        "\n",
        "# Define year columns dynamically from the data\n",
        "year_columns = df_balance_sheet.columns[1:]\n",
        "\n",
        "# Define the rows that contribute to total liabilities\n",
        "liability_items = [\n",
        "    \"Total liabilities\",\n",
        "]\n",
        "\n",
        "# Calculate total liabilities\n",
        "total_liabilities = df_balance_sheet[df_balance_sheet['Particulars'].isin(liability_items)].loc[:, year_columns].sum()\n",
        "total_liabilities_df = pd.DataFrame(total_liabilities).transpose()\n",
        "total_liabilities_df.columns = year_columns  # Ensure column names match the years\n",
        "\n",
        "# Reset index to turn the years into a column, which will be more meaningful\n",
        "total_liabilities_df.reset_index(inplace=True)\n",
        "total_liabilities_df.rename(columns={'index': 'Year'}, inplace=True)\n",
        "\n",
        "# Optionally, add a column name for the total values if only one column of data is expected\n",
        "if total_liabilities_df.shape[1] == 2:\n",
        "    total_liabilities_df.columns = ['Year', 'Total Liabilities']\n",
        "\n",
        "# Save to Excel\n",
        "total_liabilities_df.to_excel('Total_Liabilities.xlsx', index=False)\n",
        "\n",
        "print(\"Total liabilities calculation is completed and saved.\")\n"
      ],
      "metadata": {
        "colab": {
          "base_uri": "https://localhost:8080/"
        },
        "id": "lVif6LUPff9k",
        "outputId": "b0d3e4c0-0755-43d4-ffe4-63a810ef3c79"
      },
      "execution_count": null,
      "outputs": [
        {
          "output_type": "stream",
          "name": "stdout",
          "text": [
            "Total liabilities calculation is completed and saved.\n"
          ]
        }
      ]
    },
    {
      "cell_type": "code",
      "source": [
        "import pandas as pd\n",
        "\n",
        "# Load the Income & Expense data\n",
        "df_income_expense = pd.read_excel(\"Processed_CreditSuisse_Data.xlsx\", sheet_name='Income&Expense')\n",
        "\n",
        "# Define year columns dynamically from the data\n",
        "year_columns = df_income_expense.columns[1:]\n",
        "\n",
        "# Define the rows that contribute to total operating expenses\n",
        "operating_expense_items = [\n",
        "    \"Total operating expenses\",\n",
        "]\n",
        "\n",
        "# Calculate total operating expenses\n",
        "total_operating_expenses = df_income_expense[df_income_expense['Particulars'].str.contains(\"Total operating expenses\", case=False, na=False)].loc[:, year_columns].sum()\n",
        "\n",
        "# Convert the series to a DataFrame for easier manipulation and to properly define column names\n",
        "total_operating_expenses_df = pd.DataFrame(total_operating_expenses, columns=['Total Operating Expenses'])\n",
        "\n",
        "# Reset index to turn the years into a column\n",
        "total_operating_expenses_df.reset_index(inplace=True)\n",
        "total_operating_expenses_df.rename(columns={'index': 'Year'}, inplace=True)\n",
        "\n",
        "# Check the DataFrame structure\n",
        "print(total_operating_expenses_df.head())\n",
        "\n",
        "# Save to Excel\n",
        "total_operating_expenses_df.to_excel('Total_Operating_Expenses.xlsx', index=False)\n",
        "\n",
        "print(\"Total operating expenses calculation is completed and saved.\")\n"
      ],
      "metadata": {
        "colab": {
          "base_uri": "https://localhost:8080/"
        },
        "id": "hEkhFVp1gGT5",
        "outputId": "0d5af2b2-dc77-497f-c37f-ea350a9b9775"
      },
      "execution_count": null,
      "outputs": [
        {
          "output_type": "stream",
          "name": "stdout",
          "text": [
            "   Year  Total Operating Expenses\n",
            "0  2023                    5628.0\n",
            "1  2022                    6048.0\n",
            "2  2021                    6143.0\n",
            "3  2020                    6435.0\n",
            "4  2019                    6265.0\n",
            "Total operating expenses calculation is completed and saved.\n"
          ]
        }
      ]
    },
    {
      "cell_type": "code",
      "source": [
        "import pandas as pd\n",
        "import joblib\n",
        "\n",
        "# Load the models\n",
        "ada_boost_model = joblib.load('best_adaboost_model.joblib')\n",
        "gradient_boosting_model = joblib.load('best_gradient_boosting_model.joblib')\n",
        "knn_model = joblib.load('knn_model.joblib')\n",
        "logistic_regression_model = joblib.load('logistic_regression_model.joblib')\n",
        "random_forest_model = joblib.load('random_forest_model.joblib')\n",
        "\n",
        "# Load your test data\n",
        "df_test = pd.read_excel('/content/Test_Data.xlsx')\n",
        "\n",
        "# Prepare the feature matrix by dropping non-feature columns\n",
        "X_test = df_test.drop(['Status_Label', 'Company_name', 'Year'], axis=1)\n",
        "\n",
        "# Predictions dictionary\n",
        "predictions = {}\n",
        "\n",
        "# Predict for each model and store results\n",
        "for name, model in models.items():\n",
        "    predictions[name] = model.predict(X_test)\n",
        "    df_test[name + '_Predictions'] = predictions[name]  # Add predictions to the DataFrame\n",
        "\n",
        "# Include 'Company_name' and 'Year' in the output for traceability\n",
        "output_df = df_test[['Company_name', 'Year'] + [name + '_Predictions' for name in predictions]]\n",
        "\n",
        "# Save the DataFrame with predictions back to an Excel file\n",
        "output_df.to_excel('Predicted_Status_Labels.xlsx', index=False)\n",
        "\n",
        "print(\"Predictions are completed and saved.\")\n"
      ],
      "metadata": {
        "id": "EoaBXZy-hAtl",
        "colab": {
          "base_uri": "https://localhost:8080/"
        },
        "outputId": "d10d8b23-5c66-47bf-8182-67e4f0deec3d"
      },
      "execution_count": null,
      "outputs": [
        {
          "output_type": "stream",
          "name": "stdout",
          "text": [
            "Predictions are completed and saved.\n"
          ]
        }
      ]
    },
    {
      "cell_type": "code",
      "source": [
        "import pandas as pd\n",
        "from sklearn.metrics import accuracy_score, confusion_matrix, classification_report\n",
        "\n",
        "# Load the updated Excel file with predictions and actual labels\n",
        "data = pd.read_excel('Predicted_Status_Labels.xlsx')\n",
        "\n",
        "# Correct column name for actual labels\n",
        "y_true = data['Actual_Labels']\n",
        "\n",
        "# Dictionary to store evaluation results\n",
        "evaluation_results = {}\n",
        "\n",
        "# Dictionary of model predictions columns\n",
        "models = {\n",
        "    'AdaBoost': 'AdaBoost_Predictions',\n",
        "    'Gradient Boosting': 'Gradient Boosting_Predictions',\n",
        "    'KNN': 'KNN_Predictions',\n",
        "    'Logistic Regression': 'Logistic Regression_Predictions',\n",
        "    'Random Forest': 'Random Forest_Predictions'\n",
        "}\n",
        "\n",
        "# Evaluate each model\n",
        "for name, pred_col in models.items():\n",
        "    y_pred = data[pred_col]\n",
        "    accuracy = accuracy_score(y_true, y_pred)\n",
        "    confusion = confusion_matrix(y_true, y_pred)\n",
        "    report = classification_report(y_true, y_pred, zero_division=0)\n",
        "\n",
        "    evaluation_results[name] = {\n",
        "        'Accuracy': accuracy,\n",
        "        'Confusion Matrix': confusion,\n",
        "        'Classification Report': report\n",
        "    }\n",
        "\n",
        "    print(f\"Results for {name}:\\n\")\n",
        "    print(f\"Accuracy: {accuracy:.4f}\\n\")\n",
        "    print(\"Confusion Matrix:\")\n",
        "    print(confusion)\n",
        "    print(\"\\nClassification Report:\")\n",
        "    print(report)\n",
        "    print(\"\\n\" + \"-\"*50 + \"\\n\")\n",
        "\n",
        "# If needed, save the evaluation results to a new Excel file\n",
        "pd.DataFrame(evaluation_results).to_excel('Model_Evaluation_Results.xlsx', index=False)\n"
      ],
      "metadata": {
        "colab": {
          "base_uri": "https://localhost:8080/"
        },
        "id": "JL1zSesN8dUC",
        "outputId": "74d77f41-d54c-44fe-fc1b-81ebad39a32c"
      },
      "execution_count": null,
      "outputs": [
        {
          "output_type": "stream",
          "name": "stdout",
          "text": [
            "Results for AdaBoost:\n",
            "\n",
            "Accuracy: 0.9412\n",
            "\n",
            "Confusion Matrix:\n",
            "[[16  0]\n",
            " [ 1  0]]\n",
            "\n",
            "Classification Report:\n",
            "              precision    recall  f1-score   support\n",
            "\n",
            "       alive       0.94      1.00      0.97        16\n",
            "      failed       0.00      0.00      0.00         1\n",
            "\n",
            "    accuracy                           0.94        17\n",
            "   macro avg       0.47      0.50      0.48        17\n",
            "weighted avg       0.89      0.94      0.91        17\n",
            "\n",
            "\n",
            "--------------------------------------------------\n",
            "\n",
            "Results for Gradient Boosting:\n",
            "\n",
            "Accuracy: 1.0000\n",
            "\n",
            "Confusion Matrix:\n",
            "[[16  0]\n",
            " [ 0  1]]\n",
            "\n",
            "Classification Report:\n",
            "              precision    recall  f1-score   support\n",
            "\n",
            "       alive       1.00      1.00      1.00        16\n",
            "      failed       1.00      1.00      1.00         1\n",
            "\n",
            "    accuracy                           1.00        17\n",
            "   macro avg       1.00      1.00      1.00        17\n",
            "weighted avg       1.00      1.00      1.00        17\n",
            "\n",
            "\n",
            "--------------------------------------------------\n",
            "\n",
            "Results for KNN:\n",
            "\n",
            "Accuracy: 0.9412\n",
            "\n",
            "Confusion Matrix:\n",
            "[[16  0]\n",
            " [ 1  0]]\n",
            "\n",
            "Classification Report:\n",
            "              precision    recall  f1-score   support\n",
            "\n",
            "       alive       0.94      1.00      0.97        16\n",
            "      failed       0.00      0.00      0.00         1\n",
            "\n",
            "    accuracy                           0.94        17\n",
            "   macro avg       0.47      0.50      0.48        17\n",
            "weighted avg       0.89      0.94      0.91        17\n",
            "\n",
            "\n",
            "--------------------------------------------------\n",
            "\n",
            "Results for Logistic Regression:\n",
            "\n",
            "Accuracy: 0.9412\n",
            "\n",
            "Confusion Matrix:\n",
            "[[16  0]\n",
            " [ 1  0]]\n",
            "\n",
            "Classification Report:\n",
            "              precision    recall  f1-score   support\n",
            "\n",
            "       alive       0.94      1.00      0.97        16\n",
            "      failed       0.00      0.00      0.00         1\n",
            "\n",
            "    accuracy                           0.94        17\n",
            "   macro avg       0.47      0.50      0.48        17\n",
            "weighted avg       0.89      0.94      0.91        17\n",
            "\n",
            "\n",
            "--------------------------------------------------\n",
            "\n",
            "Results for Random Forest:\n",
            "\n",
            "Accuracy: 0.9412\n",
            "\n",
            "Confusion Matrix:\n",
            "[[16  0]\n",
            " [ 1  0]]\n",
            "\n",
            "Classification Report:\n",
            "              precision    recall  f1-score   support\n",
            "\n",
            "       alive       0.94      1.00      0.97        16\n",
            "      failed       0.00      0.00      0.00         1\n",
            "\n",
            "    accuracy                           0.94        17\n",
            "   macro avg       0.47      0.50      0.48        17\n",
            "weighted avg       0.89      0.94      0.91        17\n",
            "\n",
            "\n",
            "--------------------------------------------------\n",
            "\n"
          ]
        }
      ]
    },
    {
      "cell_type": "code",
      "source": [],
      "metadata": {
        "id": "hL7AmepCBtO-"
      },
      "execution_count": null,
      "outputs": []
    }
  ]
}